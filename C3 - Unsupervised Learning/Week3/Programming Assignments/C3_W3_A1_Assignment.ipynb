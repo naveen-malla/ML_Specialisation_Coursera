{
 "cells": [
  {
   "cell_type": "markdown",
   "metadata": {},
   "source": [
    "# Deep Q-Learning - Lunar Lander\n",
    "\n",
    "In this assignment, you will train an agent to land a lunar lander safely on a landing pad on the surface of the moon.\n",
    "\n",
    "\n",
    "# Outline\n",
    "- [ 1 - Import Packages <img align=\"Right\" src=\"./images/lunar_lander.gif\" width = 60% >](#1)\n",
    "- [ 2 - Hyperparameters](#2)\n",
    "- [ 3 - The Lunar Lander Environment](#3)\n",
    "  - [ 3.1 Action Space](#3.1)\n",
    "  - [ 3.2 Observation Space](#3.2)\n",
    "  - [ 3.3 Rewards](#3.3)\n",
    "  - [ 3.4 Episode Termination](#3.4)\n",
    "- [ 4 - Load the Environment](#4)\n",
    "- [ 5 - Interacting with the Gym Environment](#5)\n",
    "    - [ 5.1 Exploring the Environment's Dynamics](#5.1)\n",
    "- [ 6 - Deep Q-Learning](#6)\n",
    "  - [ 6.1 Target Network](#6.1)\n",
    "    - [ Exercise 1](#ex01)\n",
    "  - [ 6.2 Experience Replay](#6.2)\n",
    "- [ 7 - Deep Q-Learning Algorithm with Experience Replay](#7)\n",
    "  - [ Exercise 2](#ex02)\n",
    "- [ 8 - Update the Network Weights](#8)\n",
    "- [ 9 - Train the Agent](#9)\n",
    "- [ 10 - See the Trained Agent In Action](#10)\n",
    "- [ 11 - Congratulations!](#11)\n",
    "- [ 12 - References](#12)\n"
   ]
  },
  {
   "cell_type": "markdown",
   "metadata": {},
   "source": [
    "_**NOTE:** To prevent errors from the autograder, you are not allowed to edit or delete non-graded cells in this lab. Please also refrain from adding any new cells. \n",
    "**Once you have passed this assignment** and want to experiment with any of the non-graded code, you may follow the instructions at the bottom of this notebook._"
   ]
  },
  {
   "cell_type": "markdown",
   "metadata": {},
   "source": [
    "<a name=\"1\"></a>\n",
    "## 1 - Import Packages\n",
    "\n",
    "We'll make use of the following packages:\n",
    "- `numpy` is a package for scientific computing in python.\n",
    "- `deque` will be our data structure for our memory buffer.\n",
    "- `namedtuple` will be used to store the experience tuples.\n",
    "- The `gym` toolkit is a collection of environments that can be used to test reinforcement learning algorithms. We should note that in this notebook we are using `gym` version `0.24.0`.\n",
    "- `PIL.Image` and `pyvirtualdisplay` are needed to render the Lunar Lander environment.\n",
    "- We will use several modules from the `tensorflow.keras` framework for building deep learning models.\n",
    "- `utils` is a module that contains helper functions for this assignment. You do not need to modify the code in this file.\n",
    "\n",
    "Run the cell below to import all the necessary packages."
   ]
  },
  {
   "cell_type": "code",
   "execution_count": 35,
   "metadata": {
    "deletable": false,
    "editable": false,
    "id": "KYbOPKRtfQOr"
   },
   "outputs": [],
   "source": [
    "import time\n",
    "from collections import deque, namedtuple\n",
    "\n",
    "import gym\n",
    "import numpy as np\n",
    "import PIL.Image\n",
    "import tensorflow as tf\n",
    "import utils\n",
    "\n",
    "from pyvirtualdisplay import Display\n",
    "from tensorflow.keras import Sequential\n",
    "from tensorflow.keras.layers import Dense, Input\n",
    "from tensorflow.keras.losses import MSE\n",
    "from tensorflow.keras.optimizers import Adam"
   ]
  },
  {
   "cell_type": "code",
   "execution_count": 36,
   "metadata": {
    "deletable": false,
    "editable": false
   },
   "outputs": [],
   "source": [
    "# Set up a virtual display to render the Lunar Lander environment.\n",
    "Display(visible=0, size=(840, 480)).start();\n",
    "\n",
    "# Set the random seed for TensorFlow\n",
    "tf.random.set_seed(utils.SEED)"
   ]
  },
  {
   "cell_type": "markdown",
   "metadata": {},
   "source": [
    "<a name=\"2\"></a>\n",
    "## 2 - Hyperparameters\n",
    "\n",
    "Run the cell below to set the hyperparameters."
   ]
  },
  {
   "cell_type": "code",
   "execution_count": 37,
   "metadata": {
    "deletable": false,
    "editable": false
   },
   "outputs": [],
   "source": [
    "MEMORY_SIZE = 100_000     # size of memory buffer\n",
    "GAMMA = 0.995             # discount factor\n",
    "ALPHA = 1e-3              # learning rate  \n",
    "NUM_STEPS_FOR_UPDATE = 4  # perform a learning update every C time steps"
   ]
  },
  {
   "cell_type": "markdown",
   "metadata": {},
   "source": [
    "<a name=\"3\"></a>\n",
    "## 3 - The Lunar Lander Environment\n",
    "\n",
    "In this notebook we will be using [OpenAI's Gym Library](https://www.gymlibrary.dev/). The Gym library provides a wide variety of environments for reinforcement learning. To put it simply, an environment represents a problem or task to be solved. In this notebook, we will try to solve the Lunar Lander environment using reinforcement learning.\n",
    "\n",
    "The goal of the Lunar Lander environment is to land the lunar lander safely on the landing pad on the surface of the moon. The landing pad is designated by two flag poles and its center is at coordinates `(0,0)` but the lander is also allowed to land outside of the landing pad. The lander starts at the top center of the environment with a random initial force applied to its center of mass and has infinite fuel. The environment is considered solved if you get `200` points. \n",
    "\n",
    "<br>\n",
    "<br>\n",
    "<figure>\n",
    "  <img src = \"images/lunar_lander.gif\" width = 40%>\n",
    "      <figcaption style = \"text-align: center; font-style: italic\">Fig 1. Lunar Lander Environment.</figcaption>\n",
    "</figure>\n",
    "\n",
    "\n",
    "\n",
    "<a name=\"3.1\"></a>\n",
    "### 3.1 Action Space\n",
    "\n",
    "The agent has four discrete actions available:\n",
    "\n",
    "* Do nothing.\n",
    "* Fire right engine.\n",
    "* Fire main engine.\n",
    "* Fire left engine.\n",
    "\n",
    "Each action has a corresponding numerical value:\n",
    "\n",
    "```python\n",
    "Do nothing = 0\n",
    "Fire right engine = 1\n",
    "Fire main engine = 2\n",
    "Fire left engine = 3\n",
    "```\n",
    "\n",
    "<a name=\"3.2\"></a>\n",
    "### 3.2 Observation Space\n",
    "\n",
    "The agent's observation space consists of a state vector with 8 variables:\n",
    "\n",
    "* Its $(x,y)$ coordinates. The landing pad is always at coordinates $(0,0)$.\n",
    "* Its linear velocities $(\\dot x,\\dot y)$.\n",
    "* Its angle $\\theta$.\n",
    "* Its angular velocity $\\dot \\theta$.\n",
    "* Two booleans, $l$ and $r$, that represent whether each leg is in contact with the ground or not.\n",
    "\n",
    "<a name=\"3.3\"></a>\n",
    "### 3.3 Rewards\n",
    "\n",
    "After every step, a reward is granted. The total reward of an episode is the sum of the rewards for all the steps within that episode.\n",
    "\n",
    "For each step, the reward:\n",
    "- is increased/decreased the closer/further the lander is to the landing pad.\n",
    "- is increased/decreased the slower/faster the lander is moving.\n",
    "- is decreased the more the lander is tilted (angle not horizontal).\n",
    "- is increased by 10 points for each leg that is in contact with the ground.\n",
    "- is decreased by 0.03 points each frame a side engine is firing.\n",
    "- is decreased by 0.3 points each frame the main engine is firing.\n",
    "\n",
    "The episode receives an additional reward of -100 or +100 points for crashing or landing safely respectively.\n",
    "\n",
    "<a name=\"3.4\"></a>\n",
    "### 3.4 Episode Termination\n",
    "\n",
    "An episode ends (i.e the environment enters a terminal state) if:\n",
    "\n",
    "* The lunar lander crashes (i.e if the body of the lunar lander comes in contact with the surface of the moon).\n",
    "\n",
    "* The absolute value of the lander's $x$-coordinate is greater than 1 (i.e. it goes beyond the left or right border)\n",
    "\n",
    "You can check out the [Open AI Gym documentation](https://www.gymlibrary.dev/environments/box2d/lunar_lander/) for a full description of the environment. "
   ]
  },
  {
   "cell_type": "markdown",
   "metadata": {},
   "source": [
    "<a name=\"4\"></a>\n",
    "## 4 - Load the Environment\n",
    "\n",
    "We start by loading the `LunarLander-v2` environment from the `gym` library by using the `.make()` method. `LunarLander-v2` is the latest version of the Lunar Lander environment and you can read about its version history in the [Open AI Gym documentation](https://www.gymlibrary.dev/environments/box2d/lunar_lander/#version-history)."
   ]
  },
  {
   "cell_type": "code",
   "execution_count": 38,
   "metadata": {
    "deletable": false,
    "editable": false,
    "id": "ILVMYKewfR0n"
   },
   "outputs": [],
   "source": [
    "env = gym.make('LunarLander-v2')"
   ]
  },
  {
   "cell_type": "markdown",
   "metadata": {},
   "source": [
    "Once we load the environment we use the `.reset()` method to reset the environment to the initial state. The lander starts at the top center of the environment and we can render the first frame of the environment by using the `.render()` method."
   ]
  },
  {
   "cell_type": "code",
   "execution_count": 39,
   "metadata": {
    "deletable": false,
    "editable": false
   },
   "outputs": [
    {
     "data": {
      "image/png": "[encoded data removed]",
      "text/plain": [
       "<PIL.Image.Image image mode=RGB size=600x400 at 0x7535E8103C10>"
      ]
     },
     "execution_count": 39,
     "metadata": {},
     "output_type": "execute_result"
    }
   ],
   "source": [
    "env.reset()\n",
    "PIL.Image.fromarray(env.render(mode='rgb_array'))"
   ]
  },
  {
   "cell_type": "markdown",
   "metadata": {},
   "source": [
    "In order to build our neural network later on we need to know the size of the state vector and the number of valid actions. We can get this information from our environment by using the `.observation_space.shape` and `action_space.n` methods, respectively."
   ]
  },
  {
   "cell_type": "code",
   "execution_count": 40,
   "metadata": {
    "deletable": false,
    "editable": false,
    "id": "x3fdqdG4CUu2"
   },
   "outputs": [
    {
     "name": "stdout",
     "output_type": "stream",
     "text": [
      "State Shape: (8,)\n",
      "Number of actions: 4\n"
     ]
    }
   ],
   "source": [
    "state_size = env.observation_space.shape\n",
    "num_actions = env.action_space.n\n",
    "\n",
    "print('State Shape:', state_size)\n",
    "print('Number of actions:', num_actions)"
   ]
  },
  {
   "cell_type": "markdown",
   "metadata": {},
   "source": [
    "<a name=\"5\"></a>\n",
    "## 5 - Interacting with the Gym Environment\n",
    "\n",
    "The Gym library implements the standard “agent-environment loop” formalism:\n",
    "\n",
    "<br>\n",
    "<center>\n",
    "<video src = \"./videos/rl_formalism.m4v\" width=\"840\" height=\"480\" controls autoplay loop poster=\"./images/rl_formalism.png\"> </video>\n",
    "<figcaption style = \"text-align:center; font-style:italic\">Fig 2. Agent-environment Loop Formalism.</figcaption>\n",
    "</center>\n",
    "<br>\n",
    "\n",
    "In the standard “agent-environment loop” formalism, an agent interacts with the environment in discrete time steps $t=0,1,2,...$. At each time step $t$, the agent uses a policy $\\pi$ to select an action $A_t$ based on its observation of the environment's state $S_t$. The agent receives a numerical reward $R_t$ and on the next time step, moves to a new state $S_{t+1}$.\n",
    "\n",
    "<a name=\"5.1\"></a>\n",
    "### 5.1 Exploring the Environment's Dynamics\n",
    "\n",
    "In Open AI's Gym environments, we use the `.step()` method to run a single time step of the environment's dynamics. In the version of `gym` that we are using the `.step()` method accepts an action and returns four values:\n",
    "\n",
    "* `observation` (**object**): an environment-specific object representing your observation of the environment. In the Lunar Lander environment this corresponds to a numpy array containing the positions and velocities of the lander as described in section [3.2 Observation Space](#3.2).\n",
    "\n",
    "\n",
    "* `reward` (**float**): amount of reward returned as a result of taking the given action. In the Lunar Lander environment this corresponds to a float of type `numpy.float64` as described in section [3.3 Rewards](#3.3).\n",
    "\n",
    "\n",
    "* `done` (**boolean**): When done is `True`, it indicates the episode has terminated and it’s time to reset the environment. \n",
    "\n",
    "\n",
    "* `info` (**dictionary**): diagnostic information useful for debugging. We won't be using this variable in this notebook but it is shown here for completeness.\n",
    "\n",
    "To begin an episode, we need to reset the environment to an initial state. We do this by using the `.reset()` method. "
   ]
  },
  {
   "cell_type": "code",
   "execution_count": 41,
   "metadata": {
    "deletable": false,
    "editable": false
   },
   "outputs": [],
   "source": [
    "# Reset the environment and get the initial state.\n",
    "current_state = env.reset()"
   ]
  },
  {
   "cell_type": "markdown",
   "metadata": {},
   "source": [
    "Once the environment is reset, the agent can start taking actions in the environment by using the `.step()` method. Note that the agent can only take one action per time step. \n",
    "\n",
    "In the cell below you can select different actions and see how the returned values change depending on the action taken. Remember that in this environment the agent has four discrete actions available and we specify them in code by using their corresponding numerical value:\n",
    "\n",
    "```python\n",
    "Do nothing = 0\n",
    "Fire right engine = 1\n",
    "Fire main engine = 2\n",
    "Fire left engine = 3\n",
    "```"
   ]
  },
  {
   "cell_type": "code",
   "execution_count": 42,
   "metadata": {
    "deletable": false
   },
   "outputs": [
    {
     "data": {
      "text/html": [
       "<style  type=\"text/css\" >\n",
       "    #T_8a04f1ce_30cb_11ef_a0d1_0242ac120063 th {\n",
       "          border: 1px solid grey;\n",
       "          text-align: center;\n",
       "    }    #T_8a04f1ce_30cb_11ef_a0d1_0242ac120063 tbody td {\n",
       "          border: 1px solid grey;\n",
       "          text-align: center;\n",
       "    }    #T_8a04f1ce_30cb_11ef_a0d1_0242ac120063row0_col0 {\n",
       "            background-color :  grey;\n",
       "        }    #T_8a04f1ce_30cb_11ef_a0d1_0242ac120063row1_col1 {\n",
       "            background-color :  grey;\n",
       "        }    #T_8a04f1ce_30cb_11ef_a0d1_0242ac120063row1_col2 {\n",
       "            background-color :  grey;\n",
       "        }    #T_8a04f1ce_30cb_11ef_a0d1_0242ac120063row1_col3 {\n",
       "            background-color :  grey;\n",
       "        }    #T_8a04f1ce_30cb_11ef_a0d1_0242ac120063row1_col4 {\n",
       "            background-color :  grey;\n",
       "        }    #T_8a04f1ce_30cb_11ef_a0d1_0242ac120063row1_col5 {\n",
       "            background-color :  grey;\n",
       "        }    #T_8a04f1ce_30cb_11ef_a0d1_0242ac120063row1_col6 {\n",
       "            background-color :  grey;\n",
       "        }    #T_8a04f1ce_30cb_11ef_a0d1_0242ac120063row1_col7 {\n",
       "            background-color :  grey;\n",
       "        }    #T_8a04f1ce_30cb_11ef_a0d1_0242ac120063row1_col8 {\n",
       "            background-color :  grey;\n",
       "        }    #T_8a04f1ce_30cb_11ef_a0d1_0242ac120063row1_col9 {\n",
       "            background-color :  grey;\n",
       "        }    #T_8a04f1ce_30cb_11ef_a0d1_0242ac120063row1_col10 {\n",
       "            background-color :  grey;\n",
       "        }    #T_8a04f1ce_30cb_11ef_a0d1_0242ac120063row1_col11 {\n",
       "            background-color :  grey;\n",
       "        }    #T_8a04f1ce_30cb_11ef_a0d1_0242ac120063row2_col0 {\n",
       "            background-color :  grey;\n",
       "        }    #T_8a04f1ce_30cb_11ef_a0d1_0242ac120063row3_col1 {\n",
       "            background-color :  grey;\n",
       "        }    #T_8a04f1ce_30cb_11ef_a0d1_0242ac120063row3_col2 {\n",
       "            background-color :  grey;\n",
       "        }    #T_8a04f1ce_30cb_11ef_a0d1_0242ac120063row3_col3 {\n",
       "            background-color :  grey;\n",
       "        }    #T_8a04f1ce_30cb_11ef_a0d1_0242ac120063row3_col4 {\n",
       "            background-color :  grey;\n",
       "        }    #T_8a04f1ce_30cb_11ef_a0d1_0242ac120063row3_col5 {\n",
       "            background-color :  grey;\n",
       "        }    #T_8a04f1ce_30cb_11ef_a0d1_0242ac120063row3_col6 {\n",
       "            background-color :  grey;\n",
       "        }    #T_8a04f1ce_30cb_11ef_a0d1_0242ac120063row3_col7 {\n",
       "            background-color :  grey;\n",
       "        }    #T_8a04f1ce_30cb_11ef_a0d1_0242ac120063row3_col8 {\n",
       "            background-color :  grey;\n",
       "        }    #T_8a04f1ce_30cb_11ef_a0d1_0242ac120063row3_col9 {\n",
       "            background-color :  grey;\n",
       "        }    #T_8a04f1ce_30cb_11ef_a0d1_0242ac120063row3_col10 {\n",
       "            background-color :  grey;\n",
       "        }    #T_8a04f1ce_30cb_11ef_a0d1_0242ac120063row3_col11 {\n",
       "            background-color :  grey;\n",
       "        }    #T_8a04f1ce_30cb_11ef_a0d1_0242ac120063row4_col1 {\n",
       "            background-color :  grey;\n",
       "        }    #T_8a04f1ce_30cb_11ef_a0d1_0242ac120063row4_col2 {\n",
       "            background-color :  grey;\n",
       "        }    #T_8a04f1ce_30cb_11ef_a0d1_0242ac120063row4_col3 {\n",
       "            background-color :  grey;\n",
       "        }    #T_8a04f1ce_30cb_11ef_a0d1_0242ac120063row4_col4 {\n",
       "            background-color :  grey;\n",
       "        }    #T_8a04f1ce_30cb_11ef_a0d1_0242ac120063row4_col5 {\n",
       "            background-color :  grey;\n",
       "        }    #T_8a04f1ce_30cb_11ef_a0d1_0242ac120063row4_col6 {\n",
       "            background-color :  grey;\n",
       "        }    #T_8a04f1ce_30cb_11ef_a0d1_0242ac120063row4_col7 {\n",
       "            background-color :  grey;\n",
       "        }    #T_8a04f1ce_30cb_11ef_a0d1_0242ac120063row4_col8 {\n",
       "            background-color :  grey;\n",
       "        }    #T_8a04f1ce_30cb_11ef_a0d1_0242ac120063row4_col9 {\n",
       "            background-color :  grey;\n",
       "        }    #T_8a04f1ce_30cb_11ef_a0d1_0242ac120063row4_col10 {\n",
       "            background-color :  grey;\n",
       "        }    #T_8a04f1ce_30cb_11ef_a0d1_0242ac120063row4_col11 {\n",
       "            background-color :  grey;\n",
       "        }</style><table id=\"T_8a04f1ce_30cb_11ef_a0d1_0242ac120063\" ><thead>    <tr>        <th class=\"blank level0\" ></th>        <th class=\"col_heading level0 col0\" ></th>        <th class=\"col_heading level0 col1\" colspan=8>State Vector</th>        <th class=\"col_heading level0 col9\" colspan=3>Derived from the State Vector (the closer to zero, the better)</th>    </tr>    <tr>        <th class=\"blank level1\" ></th>        <th class=\"col_heading level1 col0\" ></th>        <th class=\"col_heading level1 col1\" colspan=2>Coordinate</th>        <th class=\"col_heading level1 col3\" colspan=2>Velocity</th>        <th class=\"col_heading level1 col5\" colspan=2>Tilting</th>        <th class=\"col_heading level1 col7\" colspan=2>Ground contact</th>        <th class=\"col_heading level1 col9\" >Distance from landing pad</th>        <th class=\"col_heading level1 col10\" >Velocity</th>        <th class=\"col_heading level1 col11\" >Tilting Angle (absolute value)</th>    </tr>    <tr>        <th class=\"blank level2\" ></th>        <th class=\"col_heading level2 col0\" ></th>        <th class=\"col_heading level2 col1\" >X (Horizontal)</th>        <th class=\"col_heading level2 col2\" >Y (Vertical)</th>        <th class=\"col_heading level2 col3\" >X (Horizontal)</th>        <th class=\"col_heading level2 col4\" >Y (Vertical)</th>        <th class=\"col_heading level2 col5\" >Angle</th>        <th class=\"col_heading level2 col6\" >Angular Velocity</th>        <th class=\"col_heading level2 col7\" >Left Leg?</th>        <th class=\"col_heading level2 col8\" >Right Leg?</th>        <th class=\"col_heading level2 col9\" ></th>        <th class=\"col_heading level2 col10\" ></th>        <th class=\"col_heading level2 col11\" ></th>    </tr></thead><tbody>\n",
       "                <tr>\n",
       "                        <th id=\"T_8a04f1ce_30cb_11ef_a0d1_0242ac120063level0_row0\" class=\"row_heading level0 row0\" >Current State</th>\n",
       "                        <td id=\"T_8a04f1ce_30cb_11ef_a0d1_0242ac120063row0_col0\" class=\"data row0 col0\" ></td>\n",
       "                        <td id=\"T_8a04f1ce_30cb_11ef_a0d1_0242ac120063row0_col1\" class=\"data row0 col1\" >0.001919</td>\n",
       "                        <td id=\"T_8a04f1ce_30cb_11ef_a0d1_0242ac120063row0_col2\" class=\"data row0 col2\" >1.422301</td>\n",
       "                        <td id=\"T_8a04f1ce_30cb_11ef_a0d1_0242ac120063row0_col3\" class=\"data row0 col3\" >0.194400</td>\n",
       "                        <td id=\"T_8a04f1ce_30cb_11ef_a0d1_0242ac120063row0_col4\" class=\"data row0 col4\" >0.505814</td>\n",
       "                        <td id=\"T_8a04f1ce_30cb_11ef_a0d1_0242ac120063row0_col5\" class=\"data row0 col5\" >-0.002217</td>\n",
       "                        <td id=\"T_8a04f1ce_30cb_11ef_a0d1_0242ac120063row0_col6\" class=\"data row0 col6\" >-0.044034</td>\n",
       "                        <td id=\"T_8a04f1ce_30cb_11ef_a0d1_0242ac120063row0_col7\" class=\"data row0 col7\" >False</td>\n",
       "                        <td id=\"T_8a04f1ce_30cb_11ef_a0d1_0242ac120063row0_col8\" class=\"data row0 col8\" >False</td>\n",
       "                        <td id=\"T_8a04f1ce_30cb_11ef_a0d1_0242ac120063row0_col9\" class=\"data row0 col9\" >1.422302</td>\n",
       "                        <td id=\"T_8a04f1ce_30cb_11ef_a0d1_0242ac120063row0_col10\" class=\"data row0 col10\" >0.541885</td>\n",
       "                        <td id=\"T_8a04f1ce_30cb_11ef_a0d1_0242ac120063row0_col11\" class=\"data row0 col11\" >0.002217</td>\n",
       "            </tr>\n",
       "            <tr>\n",
       "                        <th id=\"T_8a04f1ce_30cb_11ef_a0d1_0242ac120063level0_row1\" class=\"row_heading level0 row1\" >Action</th>\n",
       "                        <td id=\"T_8a04f1ce_30cb_11ef_a0d1_0242ac120063row1_col0\" class=\"data row1 col0\" >Do nothing</td>\n",
       "                        <td id=\"T_8a04f1ce_30cb_11ef_a0d1_0242ac120063row1_col1\" class=\"data row1 col1\" ></td>\n",
       "                        <td id=\"T_8a04f1ce_30cb_11ef_a0d1_0242ac120063row1_col2\" class=\"data row1 col2\" ></td>\n",
       "                        <td id=\"T_8a04f1ce_30cb_11ef_a0d1_0242ac120063row1_col3\" class=\"data row1 col3\" ></td>\n",
       "                        <td id=\"T_8a04f1ce_30cb_11ef_a0d1_0242ac120063row1_col4\" class=\"data row1 col4\" ></td>\n",
       "                        <td id=\"T_8a04f1ce_30cb_11ef_a0d1_0242ac120063row1_col5\" class=\"data row1 col5\" ></td>\n",
       "                        <td id=\"T_8a04f1ce_30cb_11ef_a0d1_0242ac120063row1_col6\" class=\"data row1 col6\" ></td>\n",
       "                        <td id=\"T_8a04f1ce_30cb_11ef_a0d1_0242ac120063row1_col7\" class=\"data row1 col7\" ></td>\n",
       "                        <td id=\"T_8a04f1ce_30cb_11ef_a0d1_0242ac120063row1_col8\" class=\"data row1 col8\" ></td>\n",
       "                        <td id=\"T_8a04f1ce_30cb_11ef_a0d1_0242ac120063row1_col9\" class=\"data row1 col9\" ></td>\n",
       "                        <td id=\"T_8a04f1ce_30cb_11ef_a0d1_0242ac120063row1_col10\" class=\"data row1 col10\" ></td>\n",
       "                        <td id=\"T_8a04f1ce_30cb_11ef_a0d1_0242ac120063row1_col11\" class=\"data row1 col11\" ></td>\n",
       "            </tr>\n",
       "            <tr>\n",
       "                        <th id=\"T_8a04f1ce_30cb_11ef_a0d1_0242ac120063level0_row2\" class=\"row_heading level0 row2\" >Next State</th>\n",
       "                        <td id=\"T_8a04f1ce_30cb_11ef_a0d1_0242ac120063row2_col0\" class=\"data row2 col0\" ></td>\n",
       "                        <td id=\"T_8a04f1ce_30cb_11ef_a0d1_0242ac120063row2_col1\" class=\"data row2 col1\" >0.003839</td>\n",
       "                        <td id=\"T_8a04f1ce_30cb_11ef_a0d1_0242ac120063row2_col2\" class=\"data row2 col2\" >1.433103</td>\n",
       "                        <td id=\"T_8a04f1ce_30cb_11ef_a0d1_0242ac120063row2_col3\" class=\"data row2 col3\" >0.194137</td>\n",
       "                        <td id=\"T_8a04f1ce_30cb_11ef_a0d1_0242ac120063row2_col4\" class=\"data row2 col4\" >0.480094</td>\n",
       "                        <td id=\"T_8a04f1ce_30cb_11ef_a0d1_0242ac120063row2_col5\" class=\"data row2 col5\" >-0.004393</td>\n",
       "                        <td id=\"T_8a04f1ce_30cb_11ef_a0d1_0242ac120063row2_col6\" class=\"data row2 col6\" >-0.043519</td>\n",
       "                        <td id=\"T_8a04f1ce_30cb_11ef_a0d1_0242ac120063row2_col7\" class=\"data row2 col7\" >False</td>\n",
       "                        <td id=\"T_8a04f1ce_30cb_11ef_a0d1_0242ac120063row2_col8\" class=\"data row2 col8\" >False</td>\n",
       "                        <td id=\"T_8a04f1ce_30cb_11ef_a0d1_0242ac120063row2_col9\" class=\"data row2 col9\" >1.433108</td>\n",
       "                        <td id=\"T_8a04f1ce_30cb_11ef_a0d1_0242ac120063row2_col10\" class=\"data row2 col10\" >0.517860</td>\n",
       "                        <td id=\"T_8a04f1ce_30cb_11ef_a0d1_0242ac120063row2_col11\" class=\"data row2 col11\" >0.004393</td>\n",
       "            </tr>\n",
       "            <tr>\n",
       "                        <th id=\"T_8a04f1ce_30cb_11ef_a0d1_0242ac120063level0_row3\" class=\"row_heading level0 row3\" >Reward</th>\n",
       "                        <td id=\"T_8a04f1ce_30cb_11ef_a0d1_0242ac120063row3_col0\" class=\"data row3 col0\" >1.104326</td>\n",
       "                        <td id=\"T_8a04f1ce_30cb_11ef_a0d1_0242ac120063row3_col1\" class=\"data row3 col1\" ></td>\n",
       "                        <td id=\"T_8a04f1ce_30cb_11ef_a0d1_0242ac120063row3_col2\" class=\"data row3 col2\" ></td>\n",
       "                        <td id=\"T_8a04f1ce_30cb_11ef_a0d1_0242ac120063row3_col3\" class=\"data row3 col3\" ></td>\n",
       "                        <td id=\"T_8a04f1ce_30cb_11ef_a0d1_0242ac120063row3_col4\" class=\"data row3 col4\" ></td>\n",
       "                        <td id=\"T_8a04f1ce_30cb_11ef_a0d1_0242ac120063row3_col5\" class=\"data row3 col5\" ></td>\n",
       "                        <td id=\"T_8a04f1ce_30cb_11ef_a0d1_0242ac120063row3_col6\" class=\"data row3 col6\" ></td>\n",
       "                        <td id=\"T_8a04f1ce_30cb_11ef_a0d1_0242ac120063row3_col7\" class=\"data row3 col7\" ></td>\n",
       "                        <td id=\"T_8a04f1ce_30cb_11ef_a0d1_0242ac120063row3_col8\" class=\"data row3 col8\" ></td>\n",
       "                        <td id=\"T_8a04f1ce_30cb_11ef_a0d1_0242ac120063row3_col9\" class=\"data row3 col9\" ></td>\n",
       "                        <td id=\"T_8a04f1ce_30cb_11ef_a0d1_0242ac120063row3_col10\" class=\"data row3 col10\" ></td>\n",
       "                        <td id=\"T_8a04f1ce_30cb_11ef_a0d1_0242ac120063row3_col11\" class=\"data row3 col11\" ></td>\n",
       "            </tr>\n",
       "            <tr>\n",
       "                        <th id=\"T_8a04f1ce_30cb_11ef_a0d1_0242ac120063level0_row4\" class=\"row_heading level0 row4\" >Episode Terminated</th>\n",
       "                        <td id=\"T_8a04f1ce_30cb_11ef_a0d1_0242ac120063row4_col0\" class=\"data row4 col0\" >False</td>\n",
       "                        <td id=\"T_8a04f1ce_30cb_11ef_a0d1_0242ac120063row4_col1\" class=\"data row4 col1\" ></td>\n",
       "                        <td id=\"T_8a04f1ce_30cb_11ef_a0d1_0242ac120063row4_col2\" class=\"data row4 col2\" ></td>\n",
       "                        <td id=\"T_8a04f1ce_30cb_11ef_a0d1_0242ac120063row4_col3\" class=\"data row4 col3\" ></td>\n",
       "                        <td id=\"T_8a04f1ce_30cb_11ef_a0d1_0242ac120063row4_col4\" class=\"data row4 col4\" ></td>\n",
       "                        <td id=\"T_8a04f1ce_30cb_11ef_a0d1_0242ac120063row4_col5\" class=\"data row4 col5\" ></td>\n",
       "                        <td id=\"T_8a04f1ce_30cb_11ef_a0d1_0242ac120063row4_col6\" class=\"data row4 col6\" ></td>\n",
       "                        <td id=\"T_8a04f1ce_30cb_11ef_a0d1_0242ac120063row4_col7\" class=\"data row4 col7\" ></td>\n",
       "                        <td id=\"T_8a04f1ce_30cb_11ef_a0d1_0242ac120063row4_col8\" class=\"data row4 col8\" ></td>\n",
       "                        <td id=\"T_8a04f1ce_30cb_11ef_a0d1_0242ac120063row4_col9\" class=\"data row4 col9\" ></td>\n",
       "                        <td id=\"T_8a04f1ce_30cb_11ef_a0d1_0242ac120063row4_col10\" class=\"data row4 col10\" ></td>\n",
       "                        <td id=\"T_8a04f1ce_30cb_11ef_a0d1_0242ac120063row4_col11\" class=\"data row4 col11\" ></td>\n",
       "            </tr>\n",
       "    </tbody></table>"
      ],
      "text/plain": [
       "<pandas.io.formats.style.Styler at 0x7535d40ddc50>"
      ]
     },
     "metadata": {},
     "output_type": "display_data"
    }
   ],
   "source": [
    "# Select an action\n",
    "action = 0\n",
    "\n",
    "# Run a single time step of the environment's dynamics with the given action.\n",
    "next_state, reward, done, _ = env.step(action)\n",
    "\n",
    "# Display table with values.\n",
    "utils.display_table(current_state, action, next_state, reward, done)\n",
    "\n",
    "# Replace the `current_state` with the state after the action is taken\n",
    "current_state = next_state"
   ]
  },
  {
   "cell_type": "markdown",
   "metadata": {},
   "source": [
    "In practice, when we train the agent we use a loop to allow the agent to take many consecutive actions during an episode."
   ]
  },
  {
   "cell_type": "markdown",
   "metadata": {},
   "source": [
    "<a name=\"6\"></a>\n",
    "## 6 - Deep Q-Learning\n",
    "\n",
    "In cases where both the state and action space are discrete we can estimate the action-value function iteratively by using the Bellman equation:\n",
    "\n",
    "$$\n",
    "Q_{i+1}(s,a) = R + \\gamma \\max_{a'}Q_i(s',a')\n",
    "$$\n",
    "\n",
    "This iterative method converges to the optimal action-value function $Q^*(s,a)$ as $i\\to\\infty$. This means that the agent just needs to gradually explore the state-action space and keep updating the estimate of $Q(s,a)$ until it converges to the optimal action-value function $Q^*(s,a)$. However, in cases where the state space is continuous it becomes practically impossible to explore the entire state-action space. Consequently, this also makes it practically impossible to gradually estimate $Q(s,a)$ until it converges to $Q^*(s,a)$.\n",
    "\n",
    "In the Deep $Q$-Learning, we solve this problem by using a neural network to estimate the action-value function $Q(s,a)\\approx Q^*(s,a)$. We call this neural network a $Q$-Network and it can be trained by adjusting its weights at each iteration to minimize the mean-squared error in the Bellman equation.\n",
    "\n",
    "Unfortunately, using neural networks in reinforcement learning to estimate action-value functions has proven to be highly unstable. Luckily, there's a couple of techniques that can be employed to avoid instabilities. These techniques consist of using a ***Target Network*** and ***Experience Replay***. We will explore these two techniques in the following sections."
   ]
  },
  {
   "cell_type": "markdown",
   "metadata": {},
   "source": [
    "<a name=\"6.1\"></a>\n",
    "### 6.1 Target Network\n",
    "\n",
    "We can train the $Q$-Network by adjusting it's weights at each iteration to minimize the mean-squared error in the Bellman equation, where the target values are given by:\n",
    "\n",
    "$$\n",
    "y = R + \\gamma \\max_{a'}Q(s',a';w)\n",
    "$$\n",
    "\n",
    "where $w$ are the weights of the $Q$-Network. This means that we are adjusting the weights $w$ at each iteration to minimize the following error:\n",
    "\n",
    "$$\n",
    "\\overbrace{\\underbrace{R + \\gamma \\max_{a'}Q(s',a'; w)}_{\\rm {y~target}} - Q(s,a;w)}^{\\rm {Error}}\n",
    "$$\n",
    "\n",
    "Notice that this forms a problem because the $y$ target is changing on every iteration. Having a constantly moving target can lead to oscillations and instabilities. To avoid this, we can create\n",
    "a separate neural network for generating the $y$ targets. We call this separate neural network the **target $\\hat Q$-Network** and it will have the same architecture as the original $Q$-Network. By using the target $\\hat Q$-Network, the above error becomes:\n",
    "\n",
    "$$\n",
    "\\overbrace{\\underbrace{R + \\gamma \\max_{a'}\\hat{Q}(s',a'; w^-)}_{\\rm {y~target}} - Q(s,a;w)}^{\\rm {Error}}\n",
    "$$\n",
    "\n",
    "where $w^-$ and $w$ are the weights of the target $\\hat Q$-Network and $Q$-Network, respectively.\n",
    "\n",
    "In practice, we will use the following algorithm: every $C$ time steps we will use the $\\hat Q$-Network to generate the $y$ targets and update the weights of the target $\\hat Q$-Network using the weights of the $Q$-Network. We will update the weights $w^-$ of the the target $\\hat Q$-Network using a **soft update**. This means that we will update the weights $w^-$ using the following rule:\n",
    " \n",
    "$$\n",
    "w^-\\leftarrow \\tau w + (1 - \\tau) w^-\n",
    "$$\n",
    "\n",
    "where $\\tau\\ll 1$. By using the soft update, we are ensuring that the target values, $y$, change slowly, which greatly improves the stability of our learning algorithm."
   ]
  },
  {
   "cell_type": "markdown",
   "metadata": {},
   "source": [
    "<a name=\"ex01\"></a>\n",
    "### Exercise 1\n",
    "\n",
    "In this exercise you will create the $Q$ and target $\\hat Q$ networks and set the optimizer. Remember that the Deep $Q$-Network (DQN) is a neural network that approximates the action-value function $Q(s,a)\\approx Q^*(s,a)$. It does this by learning how to map states to $Q$ values.\n",
    "\n",
    "To solve the Lunar Lander environment, we are going to employ a DQN with the following architecture:\n",
    "\n",
    "* An `Input` layer that takes `state_size` as input.\n",
    "\n",
    "* A `Dense` layer with `64` units and a `relu` activation function.\n",
    "\n",
    "* A `Dense` layer with `64` units and a `relu` activation function.\n",
    "\n",
    "* A `Dense` layer with `num_actions` units and a `linear` activation function. This will be the output layer of our network.\n",
    "\n",
    "\n",
    "In the cell below you should create the $Q$-Network and the target $\\hat Q$-Network using the model architecture described above. Remember that both the $Q$-Network and the target $\\hat Q$-Network have the same architecture.\n",
    "\n",
    "Lastly, you should set `Adam` as the optimizer with a learning rate equal to `ALPHA`. Recall that `ALPHA` was defined in the [Hyperparameters](#2) section. We should note that for this exercise you should use the already imported packages:\n",
    "```python\n",
    "from tensorflow.keras.layers import Dense, Input\n",
    "from tensorflow.keras.optimizers import Adam\n",
    "```"
   ]
  },
  {
   "cell_type": "code",
   "execution_count": 50,
   "metadata": {
    "deletable": false
   },
   "outputs": [],
   "source": [
    "q_network = Sequential([\n",
    "    Input(shape=state_size),                      \n",
    "    Dense(units=64, activation='relu'),            \n",
    "    Dense(units=64, activation='relu'),            \n",
    "    Dense(units=num_actions, activation='linear'),\n",
    "    ])\n",
    "\n",
    "# Create the target Q^-Network\n",
    "target_q_network = Sequential([\n",
    "    Input(shape=state_size),                       \n",
    "    Dense(units=64, activation='relu'),            \n",
    "    Dense(units=64, activation='relu'),            \n",
    "    Dense(units=num_actions, activation='linear'), \n",
    "    ])\n",
    "\n",
    "optimizer = Adam(learning_rate=ALPHA) \n"
   ]
  },
  {
   "cell_type": "code",
   "execution_count": 51,
   "metadata": {
    "deletable": false,
    "editable": false
   },
   "outputs": [
    {
     "name": "stdout",
     "output_type": "stream",
     "text": [
      "\u001b[92mAll tests passed!\n",
      "\u001b[92mAll tests passed!\n",
      "\u001b[92mAll tests passed!\n"
     ]
    }
   ],
   "source": [
    "# UNIT TEST\n",
    "from public_tests import *\n",
    "\n",
    "test_network(q_network)\n",
    "test_network(target_q_network)\n",
    "test_optimizer(optimizer, ALPHA) "
   ]
  },
  {
   "cell_type": "markdown",
   "metadata": {},
   "source": [
    "<details>\n",
    "  <summary><font size=\"3\" color=\"darkgreen\"><b>Click for hints</b></font></summary>\n",
    "    \n",
    "```python\n",
    "# Create the Q-Network\n",
    "q_network = Sequential([\n",
    "    Input(shape=state_size),                      \n",
    "    Dense(units=64, activation='relu'),            \n",
    "    Dense(units=64, activation='relu'),            \n",
    "    Dense(units=num_actions, activation='linear'),\n",
    "    ])\n",
    "\n",
    "# Create the target Q^-Network\n",
    "target_q_network = Sequential([\n",
    "    Input(shape=state_size),                       \n",
    "    Dense(units=64, activation='relu'),            \n",
    "    Dense(units=64, activation='relu'),            \n",
    "    Dense(units=num_actions, activation='linear'), \n",
    "    ])\n",
    "\n",
    "optimizer = Adam(learning_rate=ALPHA)                                  \n",
    "``` "
   ]
  },
  {
   "cell_type": "markdown",
   "metadata": {},
   "source": [
    "<a name=\"6.2\"></a>\n",
    "### 6.2 Experience Replay\n",
    "\n",
    "When an agent interacts with the environment, the states, actions, and rewards the agent experiences are sequential by nature. If the agent tries to learn from these consecutive experiences it can run into problems due to the strong correlations between them. To avoid this, we employ a technique known as **Experience Replay** to generate uncorrelated experiences for training our agent. Experience replay consists of storing the agent's experiences (i.e the states, actions, and rewards the agent receives) in a memory buffer and then sampling a random mini-batch of experiences from the buffer to do the learning. The experience tuples $(S_t, A_t, R_t, S_{t+1})$ will be added to the memory buffer at each time step as the agent interacts with the environment.\n",
    "\n",
    "For convenience, we will store the experiences as named tuples."
   ]
  },
  {
   "cell_type": "code",
   "execution_count": 52,
   "metadata": {
    "deletable": false,
    "editable": false
   },
   "outputs": [],
   "source": [
    "# Store experiences as named tuples\n",
    "experience = namedtuple(\"Experience\", field_names=[\"state\", \"action\", \"reward\", \"next_state\", \"done\"])"
   ]
  },
  {
   "cell_type": "markdown",
   "metadata": {},
   "source": [
    "By using experience replay we avoid problematic correlations, oscillations and instabilities. In addition, experience replay also allows the agent to potentially use the same experience in multiple weight updates, which increases data efficiency."
   ]
  },
  {
   "cell_type": "markdown",
   "metadata": {},
   "source": [
    "<a name=\"7\"></a>\n",
    "## 7 - Deep Q-Learning Algorithm with Experience Replay\n",
    "\n",
    "Now that we know all the techniques that we are going to use, we can put them together to arrive at the Deep Q-Learning Algorithm With Experience Replay.\n",
    "<br>\n",
    "<br>\n",
    "<figure>\n",
    "  <img src = \"images/deep_q_algorithm.png\" width = 90% style = \"border: thin silver solid; padding: 0px\">\n",
    "      <figcaption style = \"text-align: center; font-style: italic\">Fig 3. Deep Q-Learning with Experience Replay.</figcaption>\n",
    "</figure>"
   ]
  },
  {
   "cell_type": "markdown",
   "metadata": {},
   "source": [
    "<a name=\"ex02\"></a>\n",
    "### Exercise 2\n",
    "\n",
    "In this exercise you will implement line ***12*** of the algorithm outlined in *Fig 3* above and you will also compute the loss between the $y$ targets and the $Q(s,a)$ values. In the cell below, complete the `compute_loss` function by setting the $y$ targets equal to:\n",
    "\n",
    "$$\n",
    "\\begin{equation}\n",
    "    y_j =\n",
    "    \\begin{cases}\n",
    "      R_j & \\text{if episode terminates at step  } j+1\\\\\n",
    "      R_j + \\gamma \\max_{a'}\\hat{Q}(s_{j+1},a') & \\text{otherwise}\\\\\n",
    "    \\end{cases}       \n",
    "\\end{equation}\n",
    "$$\n",
    "\n",
    "Here are a couple of things to note:\n",
    "\n",
    "* The `compute_loss` function takes in a mini-batch of experience tuples. This mini-batch of experience tuples is unpacked to extract the `states`, `actions`, `rewards`, `next_states`, and `done_vals`. You should keep in mind that these variables are *TensorFlow Tensors* whose size will depend on the mini-batch size. For example, if the mini-batch size is `64` then both `rewards` and `done_vals` will be TensorFlow Tensors with `64` elements.\n",
    "\n",
    "\n",
    "* Using `if/else` statements to set the $y$ targets will not work when the variables are tensors with many elements. However, notice that you can use the `done_vals` to implement the above in a single line of code. To do this, recall that the `done` variable is a Boolean variable that takes the value `True` when an episode terminates at step $j+1$ and it is `False` otherwise. Taking into account that a Boolean value of `True` has the numerical value of `1` and a Boolean value of `False` has the numerical value of `0`, you can use the factor `(1 - done_vals)` to implement the above in a single line of code. Here's a hint: notice that `(1 - done_vals)` has a value of `0` when `done_vals` is `True` and a value of `1` when `done_vals` is `False`. \n",
    "\n",
    "Lastly, compute the loss by calculating the Mean-Squared Error (`MSE`) between the `y_targets` and the `q_values`. To calculate the mean-squared error you should use the already imported package `MSE`:\n",
    "```python\n",
    "from tensorflow.keras.losses import MSE\n",
    "```"
   ]
  },
  {
   "cell_type": "code",
   "execution_count": 58,
   "metadata": {
    "deletable": false
   },
   "outputs": [],
   "source": [
    "def compute_loss(experiences, gamma, q_network, target_q_network):\n",
    "    \"\"\" \n",
    "    Calculates the loss.\n",
    "\n",
    "    Args:\n",
    "      experiences: (tuple) tuple of [\"state\", \"action\", \"reward\", \"next_state\", \"done\"] namedtuples\n",
    "      gamma: (float) The discount factor.\n",
    "      q_network: (tf.keras.Sequential) Keras model for predicting the q_values\n",
    "      target_q_network: (tf.keras.Sequential) Keras model for predicting the targets\n",
    "\n",
    "    Returns:\n",
    "      loss: (TensorFlow Tensor(shape=(0,), dtype=int32)) the Mean-Squared Error between\n",
    "            the y targets and the Q(s,a) values.\n",
    "    \"\"\"\n",
    "\n",
    "\n",
    "    # Unpack the mini-batch of experience tuples\n",
    "    states, actions, rewards, next_states, done_vals = experiences\n",
    "\n",
    "    # Compute max Q^(s,a)\n",
    "    max_qsa = tf.reduce_max(target_q_network(next_states), axis=-1)\n",
    "\n",
    "    # Set y = R if episode terminates, otherwise set y = R + γ max Q^(s,a).\n",
    "    y_targets = rewards + (gamma * max_qsa * (1 - done_vals))\n",
    "\n",
    "    # Get the q_values\n",
    "    q_values = q_network(states)\n",
    "    q_values = tf.gather_nd(q_values, tf.stack([tf.range(q_values.shape[0]),\n",
    "                                                tf.cast(actions, tf.int32)], axis=1))\n",
    "\n",
    "    # Calculate the loss\n",
    "    loss = MSE(y_targets, q_values)\n",
    "\n",
    "    return loss"
   ]
  },
  {
   "cell_type": "code",
   "execution_count": 59,
   "metadata": {
    "deletable": false,
    "editable": false
   },
   "outputs": [
    {
     "name": "stdout",
     "output_type": "stream",
     "text": [
      "\u001b[92mAll tests passed!\n"
     ]
    }
   ],
   "source": [
    "# UNIT TEST    \n",
    "test_compute_loss(compute_loss)"
   ]
  },
  {
   "cell_type": "markdown",
   "metadata": {},
   "source": [
    "<details>\n",
    "  <summary><font size=\"3\" color=\"darkgreen\"><b>Click for hints</b></font></summary>\n",
    "    \n",
    "```python\n",
    "def compute_loss(experiences, gamma, q_network, target_q_network):\n",
    "    \"\"\" \n",
    "    Calculates the loss.\n",
    "    \n",
    "    Args:\n",
    "      experiences: (tuple) tuple of [\"state\", \"action\", \"reward\", \"next_state\", \"done\"] namedtuples\n",
    "      gamma: (float) The discount factor.\n",
    "      q_network: (tf.keras.Sequential) Keras model for predicting the q_values\n",
    "      target_q_network: (tf.keras.Sequential) Keras model for predicting the targets\n",
    "          \n",
    "    Returns:\n",
    "      loss: (TensorFlow Tensor(shape=(0,), dtype=int32)) the Mean-Squared Error between\n",
    "            the y targets and the Q(s,a) values.\n",
    "    \"\"\"\n",
    "\n",
    "    \n",
    "    # Unpack the mini-batch of experience tuples\n",
    "    states, actions, rewards, next_states, done_vals = experiences\n",
    "    \n",
    "    # Compute max Q^(s,a)\n",
    "    max_qsa = tf.reduce_max(target_q_network(next_states), axis=-1)\n",
    "    \n",
    "    # Set y = R if episode terminates, otherwise set y = R + γ max Q^(s,a).\n",
    "    y_targets = rewards + (gamma * max_qsa * (1 - done_vals))\n",
    "    \n",
    "    # Get the q_values\n",
    "    q_values = q_network(states)\n",
    "    q_values = tf.gather_nd(q_values, tf.stack([tf.range(q_values.shape[0]),\n",
    "                                                tf.cast(actions, tf.int32)], axis=1))\n",
    "    \n",
    "    # Calculate the loss\n",
    "    loss = MSE(y_targets, q_values)\n",
    "    \n",
    "    return loss\n",
    "\n",
    "``` \n",
    "    "
   ]
  },
  {
   "cell_type": "markdown",
   "metadata": {},
   "source": [
    "<a name=\"8\"></a>\n",
    "## 8 - Update the Network Weights\n",
    "\n",
    "We will use the `agent_learn` function below to implement lines ***12 -14*** of the algorithm outlined in [Fig 3](#7). The `agent_learn` function will update the weights of the $Q$ and target $\\hat Q$ networks using a custom training loop. Because we are using a custom training loop we need to retrieve the gradients via a `tf.GradientTape` instance, and then call `optimizer.apply_gradients()` to update the weights of our $Q$-Network. Note that we are also using the `@tf.function` decorator to increase performance. Without this decorator our training will take twice as long. If you would like to know more about how to increase performance with `@tf.function` take a look at the [TensorFlow documentation](https://www.tensorflow.org/guide/function).\n",
    "\n",
    "The last line of this function updates the weights of the target $\\hat Q$-Network using a [soft update](#6.1). If you want to know how this is implemented in code we encourage you to take a look at the `utils.update_target_network` function in the `utils` module."
   ]
  },
  {
   "cell_type": "code",
   "execution_count": 61,
   "metadata": {
    "deletable": false,
    "editable": false
   },
   "outputs": [],
   "source": [
    "@tf.function\n",
    "def agent_learn(experiences, gamma):\n",
    "    \"\"\"\n",
    "    Updates the weights of the Q networks.\n",
    "    \n",
    "    Args:\n",
    "      experiences: (tuple) tuple of [\"state\", \"action\", \"reward\", \"next_state\", \"done\"] namedtuples\n",
    "      gamma: (float) The discount factor.\n",
    "    \n",
    "    \"\"\"\n",
    "    \n",
    "    # Calculate the loss\n",
    "    with tf.GradientTape() as tape:\n",
    "        loss = compute_loss(experiences, gamma, q_network, target_q_network)\n",
    "\n",
    "    # Get the gradients of the loss with respect to the weights.\n",
    "    gradients = tape.gradient(loss, q_network.trainable_variables)\n",
    "    \n",
    "    # Update the weights of the q_network.\n",
    "    optimizer.apply_gradients(zip(gradients, q_network.trainable_variables))\n",
    "\n",
    "    # update the weights of target q_network\n",
    "    utils.update_target_network(q_network, target_q_network)"
   ]
  },
  {
   "cell_type": "markdown",
   "metadata": {},
   "source": [
    "<a name=\"9\"></a>\n",
    "## 9 - Train the Agent\n",
    "\n",
    "We are now ready to train our agent to solve the Lunar Lander environment. In the cell below we will implement the algorithm in [Fig 3](#7) line by line (please note that we have included the same algorithm below for easy reference. This will prevent you from scrolling up and down the notebook):\n",
    "\n",
    "* **Line 1**: We initialize the `memory_buffer` with a capacity of $N =$ `MEMORY_SIZE`. Notice that we are using a `deque` as the data structure for our `memory_buffer`.\n",
    "\n",
    "\n",
    "* **Line 2**: We skip this line since we already initialized the `q_network` in [Exercise 1](#ex01).\n",
    "\n",
    "\n",
    "* **Line 3**: We initialize the `target_q_network` by setting its weights to be equal to those of the `q_network`.\n",
    "\n",
    "\n",
    "* **Line 4**: We start the outer loop. Notice that we have set $M =$ `num_episodes = 2000`. This number is reasonable because the agent should be able to solve the Lunar Lander environment in less than `2000` episodes using this notebook's default parameters.\n",
    "\n",
    "\n",
    "* **Line 5**: We use the `.reset()` method to reset the environment to the initial state and get the initial state.\n",
    "\n",
    "\n",
    "* **Line 6**: We start the inner loop. Notice that we have set $T =$ `max_num_timesteps = 1000`. This means that the episode will automatically terminate if the episode hasn't terminated after `1000` time steps.\n",
    "\n",
    "\n",
    "* **Line 7**: The agent observes the current `state` and chooses an `action` using an $\\epsilon$-greedy policy. Our agent starts out using a value of $\\epsilon =$ `epsilon = 1` which yields an $\\epsilon$-greedy policy that is equivalent to the equiprobable random policy. This means that at the beginning of our training, the agent is just going to take random actions regardless of the observed `state`. As training progresses we will decrease the value of $\\epsilon$ slowly towards a minimum value using a given $\\epsilon$-decay rate. We want this minimum value to be close to zero because a value of $\\epsilon = 0$ will yield an $\\epsilon$-greedy policy that is equivalent to the greedy policy. This means that towards the end of training, the agent will lean towards selecting the `action` that it believes (based on its past experiences) will maximize $Q(s,a)$. We will set the minimum $\\epsilon$ value to be `0.01` and not exactly 0 because we always want to keep a little bit of exploration during training. If you want to know how this is implemented in code we encourage you to take a look at the `utils.get_action` function in the `utils` module.\n",
    "\n",
    "\n",
    "* **Line 8**: We use the `.step()` method to take the given `action` in the environment and get the `reward` and the `next_state`. \n",
    "\n",
    "\n",
    "* **Line 9**: We store the `experience(state, action, reward, next_state, done)` tuple in our `memory_buffer`. Notice that we also store the `done` variable so that we can keep track of when an episode terminates. This allowed us to set the $y$ targets in [Exercise 2](#ex02).\n",
    "\n",
    "\n",
    "* **Line 10**: We check if the conditions are met to perform a learning update. We do this by using our custom `utils.check_update_conditions` function. This function checks if $C =$ `NUM_STEPS_FOR_UPDATE = 4` time steps have occured and if our `memory_buffer` has enough experience tuples to fill a mini-batch. For example, if the mini-batch size is `64`, then our `memory_buffer` should have more than `64` experience tuples in order to pass the latter condition. If the conditions are met, then the `utils.check_update_conditions` function will return a value of `True`, otherwise it will return a value of `False`.\n",
    "\n",
    "\n",
    "* **Lines 11 - 14**: If the `update` variable is `True` then we perform a learning update. The learning update consists of sampling a random mini-batch of experience tuples from our `memory_buffer`, setting the $y$ targets, performing gradient descent, and updating the weights of the networks. We will use the `agent_learn` function we defined in [Section 8](#8) to perform the latter 3.\n",
    "\n",
    "\n",
    "* **Line 15**: At the end of each iteration of the inner loop we set `next_state` as our new `state` so that the loop can start again from this new state. In addition, we check if the episode has reached a terminal state (i.e we check if `done = True`). If a terminal state has been reached, then we break out of the inner loop.\n",
    "\n",
    "\n",
    "* **Line 16**: At the end of each iteration of the outer loop we update the value of $\\epsilon$, and check if the environment has been solved. We consider that the environment has been solved if the agent receives an average of `200` points in the last `100` episodes. If the environment has not been solved we continue the outer loop and start a new episode.\n",
    "\n",
    "Finally, we wanted to note that we have included some extra variables to keep track of the total number of points the agent received in each episode. This will help us determine if the agent has solved the environment and it will also allow us to see how our agent performed during training. We also use the `time` module to measure how long the training takes. \n",
    "\n",
    "<br>\n",
    "<br>\n",
    "<figure>\n",
    "  <img src = \"images/deep_q_algorithm.png\" width = 90% style = \"border: thin silver solid; padding: 0px\">\n",
    "      <figcaption style = \"text-align: center; font-style: italic\">Fig 4. Deep Q-Learning with Experience Replay.</figcaption>\n",
    "</figure>\n",
    "<br>\n",
    "\n",
    "**Note:** With this notebook's default parameters, the following cell takes between 10 to 15 minutes to run. "
   ]
  },
  {
   "cell_type": "code",
   "execution_count": null,
   "metadata": {
    "deletable": false,
    "editable": false
   },
   "outputs": [
    {
     "name": "stdout",
     "output_type": "stream",
     "text": [
      "Episode 100 | Total point average of the last 100 episodes: -153.81\n",
      "Episode 200 | Total point average of the last 100 episodes: -76.564\n",
      "Episode 300 | Total point average of the last 100 episodes: 5.7369\n",
      "Episode 353 | Total point average of the last 100 episodes: 35.05"
     ]
    }
   ],
   "source": [
    "start = time.time()\n",
    "\n",
    "num_episodes = 2000\n",
    "max_num_timesteps = 1000\n",
    "\n",
    "total_point_history = []\n",
    "\n",
    "num_p_av = 100    # number of total points to use for averaging\n",
    "epsilon = 1.0     # initial ε value for ε-greedy policy\n",
    "\n",
    "# Create a memory buffer D with capacity N\n",
    "memory_buffer = deque(maxlen=MEMORY_SIZE)\n",
    "\n",
    "# Set the target network weights equal to the Q-Network weights\n",
    "target_q_network.set_weights(q_network.get_weights())\n",
    "\n",
    "for i in range(num_episodes):\n",
    "    \n",
    "    # Reset the environment to the initial state and get the initial state\n",
    "    state = env.reset()\n",
    "    total_points = 0\n",
    "    \n",
    "    for t in range(max_num_timesteps):\n",
    "        \n",
    "        # From the current state S choose an action A using an ε-greedy policy\n",
    "        state_qn = np.expand_dims(state, axis=0)  # state needs to be the right shape for the q_network\n",
    "        q_values = q_network(state_qn)\n",
    "        action = utils.get_action(q_values, epsilon)\n",
    "        \n",
    "        # Take action A and receive reward R and the next state S'\n",
    "        next_state, reward, done, _ = env.step(action)\n",
    "        \n",
    "        # Store experience tuple (S,A,R,S') in the memory buffer.\n",
    "        # We store the done variable as well for convenience.\n",
    "        memory_buffer.append(experience(state, action, reward, next_state, done))\n",
    "        \n",
    "        # Only update the network every NUM_STEPS_FOR_UPDATE time steps.\n",
    "        update = utils.check_update_conditions(t, NUM_STEPS_FOR_UPDATE, memory_buffer)\n",
    "        \n",
    "        if update:\n",
    "            # Sample random mini-batch of experience tuples (S,A,R,S') from D\n",
    "            experiences = utils.get_experiences(memory_buffer)\n",
    "            \n",
    "            # Set the y targets, perform a gradient descent step,\n",
    "            # and update the network weights.\n",
    "            agent_learn(experiences, GAMMA)\n",
    "        \n",
    "        state = next_state.copy()\n",
    "        total_points += reward\n",
    "        \n",
    "        if done:\n",
    "            break\n",
    "            \n",
    "    total_point_history.append(total_points)\n",
    "    av_latest_points = np.mean(total_point_history[-num_p_av:])\n",
    "    \n",
    "    # Update the ε value\n",
    "    epsilon = utils.get_new_eps(epsilon)\n",
    "\n",
    "    print(f\"\\rEpisode {i+1} | Total point average of the last {num_p_av} episodes: {av_latest_points:.2f}\", end=\"\")\n",
    "\n",
    "    if (i+1) % num_p_av == 0:\n",
    "        print(f\"\\rEpisode {i+1} | Total point average of the last {num_p_av} episodes: {av_latest_points:.2f}\")\n",
    "\n",
    "    # We will consider that the environment is solved if we get an\n",
    "    # average of 200 points in the last 100 episodes.\n",
    "    if av_latest_points >= 200.0:\n",
    "        print(f\"\\n\\nEnvironment solved in {i+1} episodes!\")\n",
    "        q_network.save('lunar_lander_model.h5')\n",
    "        break\n",
    "        \n",
    "tot_time = time.time() - start\n",
    "\n",
    "print(f\"\\nTotal Runtime: {tot_time:.2f} s ({(tot_time/60):.2f} min)\")"
   ]
  },
  {
   "cell_type": "markdown",
   "metadata": {},
   "source": [
    "We can plot the total point history along with the moving average to see how our agent improved during training. If you want to know about the different plotting options available in the `utils.plot_history` function we encourage you to take a look at the `utils` module."
   ]
  },
  {
   "cell_type": "code",
   "execution_count": 55,
   "metadata": {
    "deletable": false,
    "editable": false,
    "id": "E_EUXxurfe8m",
    "scrolled": false
   },
   "outputs": [
    {
     "data": {
      "image/png": "[encoded data removed]",
      "text/plain": [
       "<Figure size 720x504 with 1 Axes>"
      ]
     },
     "metadata": {},
     "output_type": "display_data"
    }
   ],
   "source": [
    "# Plot the total point history along with the moving average\n",
    "utils.plot_history(total_point_history)"
   ]
  },
  {
   "cell_type": "markdown",
   "metadata": {
    "id": "c_xwgaX5MnYt"
   },
   "source": [
    "<a name=\"10\"></a>\n",
    "## 10 - See the Trained Agent In Action\n",
    "\n",
    "Now that we have trained our agent, we can see it in action. We will use the `utils.create_video` function to create a video of our agent interacting with the environment using the trained $Q$-Network. The `utils.create_video` function uses the `imageio` library to create the video. This library produces some warnings that can be distracting, so, to suppress these warnings we run the code below."
   ]
  },
  {
   "cell_type": "code",
   "execution_count": 56,
   "metadata": {
    "deletable": false,
    "editable": false
   },
   "outputs": [],
   "source": [
    "# Suppress warnings from imageio\n",
    "import logging\n",
    "logging.getLogger().setLevel(logging.ERROR)"
   ]
  },
  {
   "cell_type": "markdown",
   "metadata": {},
   "source": [
    "In the cell below we create a video of our agent interacting with the Lunar Lander environment using the trained `q_network`. The video is saved to the `videos` folder with the given `filename`. We use the `utils.embed_mp4` function to embed the video in the Jupyter Notebook so that we can see it here directly without having to download it.\n",
    "\n",
    "We should note that since the lunar lander starts with a random initial force applied to its center of mass, every time you run the cell below you will see a different video. If the agent was trained properly, it should be able to land the lunar lander in the landing pad every time, regardless of the initial force applied to its center of mass."
   ]
  },
  {
   "cell_type": "code",
   "execution_count": 57,
   "metadata": {
    "deletable": false,
    "editable": false,
    "id": "3Ttb_zLeJKiG"
   },
   "outputs": [
    {
     "data": {
      "text/html": [
       "\n",
       "    <video width=\"840\" height=\"480\" controls>\n",
       "    <source src=\"data:video/mp4;base64,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\" type=\"video/mp4\">\n",
       "    Your browser does not support the video tag.\n",
       "    </video>"
      ],
      "text/plain": [
       "<IPython.core.display.HTML object>"
      ]
     },
     "execution_count": 57,
     "metadata": {},
     "output_type": "execute_result"
    }
   ],
   "source": [
    "filename = \"./videos/lunar_lander.mp4\"\n",
    "\n",
    "utils.create_video(filename, env, q_network)\n",
    "utils.embed_mp4(filename)"
   ]
  },
  {
   "cell_type": "markdown",
   "metadata": {},
   "source": [
    "<a name=\"11\"></a>\n",
    "## 11 - Congratulations!\n",
    "\n",
    "You have successfully used Deep Q-Learning with Experience Replay to train an agent to land a lunar lander safely on a landing pad on the surface of the moon. Congratulations!"
   ]
  },
  {
   "cell_type": "markdown",
   "metadata": {},
   "source": [
    "<a name=\"12\"></a>\n",
    "## 12 - References\n",
    "\n",
    "If you would like to learn more about Deep Q-Learning, we recommend you check out the following papers.\n",
    "\n",
    "\n",
    "* Mnih, V., Kavukcuoglu, K., Silver, D. et al. Human-level control through deep reinforcement learning. Nature 518, 529–533 (2015).\n",
    "\n",
    "\n",
    "* Lillicrap, T. P., Hunt, J. J., Pritzel, A., et al. Continuous Control with Deep Reinforcement Learning. ICLR (2016).\n",
    "\n",
    "\n",
    "* Mnih, V., Kavukcuoglu, K., Silver, D. et al. Playing Atari with Deep Reinforcement Learning. arXiv e-prints.  arXiv:1312.5602 (2013)."
   ]
  },
  {
   "cell_type": "markdown",
   "metadata": {},
   "source": [
    "<details>\n",
    "  <summary><font size=\"2\" color=\"darkgreen\"><b>Please click here if you want to experiment with any of the non-graded code.</b></font></summary>\n",
    "    <p><i><b>Important Note: Please only do this when you've already passed the assignment to avoid problems with the autograder.</b></i>\n",
    "    <ol>\n",
    "        <li> On the notebook’s menu, click “View” > “Cell Toolbar” > “Edit Metadata”</li>\n",
    "        <li> Hit the “Edit Metadata” button next to the code cell which you want to lock/unlock</li>\n",
    "        <li> Set the attribute value for “editable” to:\n",
    "            <ul>\n",
    "                <li> “true” if you want to unlock it </li>\n",
    "                <li> “false” if you want to lock it </li>\n",
    "            </ul>\n",
    "        </li>\n",
    "        <li> On the notebook’s menu, click “View” > “Cell Toolbar” > “None” </li>\n",
    "    </ol>\n",
    "    <p> Here's a short demo of how to do the steps above: \n",
    "        <br>\n",
    "        <img src=\"https://lh3.google.com/u/0/d/14Xy_Mb17CZVgzVAgq7NCjMVBvSae3xO1\" align=\"center\" alt=\"unlock_cells.gif\">\n",
    "</details>"
   ]
  },
  {
   "cell_type": "code",
   "execution_count": null,
   "metadata": {},
   "outputs": [],
   "source": []
  },
  {
   "cell_type": "code",
   "execution_count": null,
   "metadata": {},
   "outputs": [],
   "source": []
  },
  {
   "cell_type": "code",
   "execution_count": null,
   "metadata": {},
   "outputs": [],
   "source": []
  }
 ],
 "metadata": {
  "accelerator": "GPU",
  "colab": {
   "collapsed_sections": [],
   "name": "TensorFlow - Lunar Lander.ipynb",
   "provenance": []
  },
  "kernelspec": {
   "display_name": "Python 3",
   "language": "python",
   "name": "python3"
  },
  "language_info": {
   "codemirror_mode": {
    "name": "ipython",
    "version": 3
   },
   "file_extension": ".py",
   "mimetype": "text/x-python",
   "name": "python",
   "nbconvert_exporter": "python",
   "pygments_lexer": "ipython3",
   "version": "3.7.6"
  }
 },
 "nbformat": 4,
 "nbformat_minor": 1
}
